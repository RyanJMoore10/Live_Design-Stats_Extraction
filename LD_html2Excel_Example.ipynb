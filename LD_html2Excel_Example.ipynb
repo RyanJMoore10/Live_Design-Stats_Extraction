{
 "cells": [
  {
   "cell_type": "code",
   "execution_count": 1,
   "id": "80fc20d5",
   "metadata": {},
   "outputs": [],
   "source": [
    "import pandas as pd, datetime as dt\n",
    "import psycopg2\n",
    "\n",
    "LocalDir =  r\"############ PATH ###############\""
   ]
  },
  {
   "cell_type": "code",
   "execution_count": 2,
   "id": "debbad28",
   "metadata": {},
   "outputs": [],
   "source": [
    "def get_table_from_text(html_dir):\n",
    "    \n",
    "    dfs = pd.read_html(html_dir)\n",
    "    \n",
    "    full_text = dfs[0][\"Name\"][1]\n",
    "    \n",
    "    start = full_text.rindex('Stats by User:') + 16\n",
    "    end = full_text.rindex('For any questions') - 1\n",
    "    \n",
    "\n",
    "    return full_text[start:end]\n",
    "\n",
    "def get_report_date(html_dir):\n",
    "    dfs = pd.read_html(html_dir)\n",
    "    full_text = dfs[0][\"Name\"][1]\n",
    "    return full_text[34:44]"
   ]
  },
  {
   "cell_type": "code",
   "execution_count": 3,
   "metadata": {},
   "outputs": [
    {
     "ename": "ValueError",
     "evalue": "No tables found",
     "output_type": "error",
     "traceback": [
      "\u001b[1;31m---------------------------------------------------------------------------\u001b[0m",
      "\u001b[1;31mValueError\u001b[0m                                Traceback (most recent call last)",
      "\u001b[1;32mc:\\Users\\mryan\\OneDrive\\Documents\\Workflow Informatics\\Nimbus\\LD_html2Excel_Example.ipynb Cell 3\u001b[0m in \u001b[0;36m<cell line: 1>\u001b[1;34m()\u001b[0m\n\u001b[1;32m----> <a href='vscode-notebook-cell:/c%3A/Users/mryan/OneDrive/Documents/Workflow%20Informatics/Nimbus/LD_html2Excel_Example.ipynb#W2sZmlsZQ%3D%3D?line=0'>1</a>\u001b[0m tTable\u001b[39m=\u001b[39m get_table_from_text(LocalDir) \u001b[39m# text of the table only\u001b[39;00m\n\u001b[0;32m      <a href='vscode-notebook-cell:/c%3A/Users/mryan/OneDrive/Documents/Workflow%20Informatics/Nimbus/LD_html2Excel_Example.ipynb#W2sZmlsZQ%3D%3D?line=2'>3</a>\u001b[0m \u001b[39mdef\u001b[39;00m \u001b[39mtable_headers_list\u001b[39m(textTable):\n\u001b[0;32m      <a href='vscode-notebook-cell:/c%3A/Users/mryan/OneDrive/Documents/Workflow%20Informatics/Nimbus/LD_html2Excel_Example.ipynb#W2sZmlsZQ%3D%3D?line=3'>4</a>\u001b[0m     \u001b[39mreturn\u001b[39;00m [textTable[\u001b[39m0\u001b[39m:\u001b[39m4\u001b[39m], \u001b[39m# Name\u001b[39;00m\n\u001b[0;32m      <a href='vscode-notebook-cell:/c%3A/Users/mryan/OneDrive/Documents/Workflow%20Informatics/Nimbus/LD_html2Excel_Example.ipynb#W2sZmlsZQ%3D%3D?line=4'>5</a>\u001b[0m             textTable[\u001b[39m5\u001b[39m:\u001b[39m16\u001b[39m], \u001b[39m# First login\u001b[39;00m\n\u001b[0;32m      <a href='vscode-notebook-cell:/c%3A/Users/mryan/OneDrive/Documents/Workflow%20Informatics/Nimbus/LD_html2Excel_Example.ipynb#W2sZmlsZQ%3D%3D?line=5'>6</a>\u001b[0m             textTable[\u001b[39m17\u001b[39m:\u001b[39m27\u001b[39m], \u001b[39m# Last login\u001b[39;00m\n\u001b[0;32m      <a href='vscode-notebook-cell:/c%3A/Users/mryan/OneDrive/Documents/Workflow%20Informatics/Nimbus/LD_html2Excel_Example.ipynb#W2sZmlsZQ%3D%3D?line=6'>7</a>\u001b[0m             textTable[\u001b[39m28\u001b[39m:\u001b[39m34\u001b[39m], \u001b[39m# Active \u001b[39;00m\n\u001b[0;32m      <a href='vscode-notebook-cell:/c%3A/Users/mryan/OneDrive/Documents/Workflow%20Informatics/Nimbus/LD_html2Excel_Example.ipynb#W2sZmlsZQ%3D%3D?line=7'>8</a>\u001b[0m             textTable[\u001b[39m35\u001b[39m:\u001b[39m52\u001b[39m], \u001b[39m# No. of owned  LRs\u001b[39;00m\n\u001b[0;32m      <a href='vscode-notebook-cell:/c%3A/Users/mryan/OneDrive/Documents/Workflow%20Informatics/Nimbus/LD_html2Excel_Example.ipynb#W2sZmlsZQ%3D%3D?line=8'>9</a>\u001b[0m             textTable[\u001b[39m53\u001b[39m:\u001b[39m88\u001b[39m]] \u001b[39m# No. of days  active in past 30 days\u001b[39;00m\n",
      "\u001b[1;32mc:\\Users\\mryan\\OneDrive\\Documents\\Workflow Informatics\\Nimbus\\LD_html2Excel_Example.ipynb Cell 3\u001b[0m in \u001b[0;36mget_table_from_text\u001b[1;34m(html_dir)\u001b[0m\n\u001b[0;32m      <a href='vscode-notebook-cell:/c%3A/Users/mryan/OneDrive/Documents/Workflow%20Informatics/Nimbus/LD_html2Excel_Example.ipynb#W2sZmlsZQ%3D%3D?line=0'>1</a>\u001b[0m \u001b[39mdef\u001b[39;00m \u001b[39mget_table_from_text\u001b[39m(html_dir):\n\u001b[1;32m----> <a href='vscode-notebook-cell:/c%3A/Users/mryan/OneDrive/Documents/Workflow%20Informatics/Nimbus/LD_html2Excel_Example.ipynb#W2sZmlsZQ%3D%3D?line=2'>3</a>\u001b[0m     dfs \u001b[39m=\u001b[39m pd\u001b[39m.\u001b[39;49mread_html(html_dir)\n\u001b[0;32m      <a href='vscode-notebook-cell:/c%3A/Users/mryan/OneDrive/Documents/Workflow%20Informatics/Nimbus/LD_html2Excel_Example.ipynb#W2sZmlsZQ%3D%3D?line=4'>5</a>\u001b[0m     full_text \u001b[39m=\u001b[39m dfs[\u001b[39m0\u001b[39m][\u001b[39m\"\u001b[39m\u001b[39mName\u001b[39m\u001b[39m\"\u001b[39m][\u001b[39m1\u001b[39m]\n\u001b[0;32m      <a href='vscode-notebook-cell:/c%3A/Users/mryan/OneDrive/Documents/Workflow%20Informatics/Nimbus/LD_html2Excel_Example.ipynb#W2sZmlsZQ%3D%3D?line=6'>7</a>\u001b[0m     start \u001b[39m=\u001b[39m full_text\u001b[39m.\u001b[39mrindex(\u001b[39m'\u001b[39m\u001b[39mStats by User:\u001b[39m\u001b[39m'\u001b[39m) \u001b[39m+\u001b[39m \u001b[39m16\u001b[39m\n",
      "File \u001b[1;32mc:\\ProgramData\\Anaconda3\\lib\\site-packages\\pandas\\util\\_decorators.py:311\u001b[0m, in \u001b[0;36mdeprecate_nonkeyword_arguments.<locals>.decorate.<locals>.wrapper\u001b[1;34m(*args, **kwargs)\u001b[0m\n\u001b[0;32m    305\u001b[0m \u001b[39mif\u001b[39;00m \u001b[39mlen\u001b[39m(args) \u001b[39m>\u001b[39m num_allow_args:\n\u001b[0;32m    306\u001b[0m     warnings\u001b[39m.\u001b[39mwarn(\n\u001b[0;32m    307\u001b[0m         msg\u001b[39m.\u001b[39mformat(arguments\u001b[39m=\u001b[39marguments),\n\u001b[0;32m    308\u001b[0m         \u001b[39mFutureWarning\u001b[39;00m,\n\u001b[0;32m    309\u001b[0m         stacklevel\u001b[39m=\u001b[39mstacklevel,\n\u001b[0;32m    310\u001b[0m     )\n\u001b[1;32m--> 311\u001b[0m \u001b[39mreturn\u001b[39;00m func(\u001b[39m*\u001b[39margs, \u001b[39m*\u001b[39m\u001b[39m*\u001b[39mkwargs)\n",
      "File \u001b[1;32mc:\\ProgramData\\Anaconda3\\lib\\site-packages\\pandas\\io\\html.py:1113\u001b[0m, in \u001b[0;36mread_html\u001b[1;34m(io, match, flavor, header, index_col, skiprows, attrs, parse_dates, thousands, encoding, decimal, converters, na_values, keep_default_na, displayed_only)\u001b[0m\n\u001b[0;32m   1109\u001b[0m validate_header_arg(header)\n\u001b[0;32m   1111\u001b[0m io \u001b[39m=\u001b[39m stringify_path(io)\n\u001b[1;32m-> 1113\u001b[0m \u001b[39mreturn\u001b[39;00m _parse(\n\u001b[0;32m   1114\u001b[0m     flavor\u001b[39m=\u001b[39;49mflavor,\n\u001b[0;32m   1115\u001b[0m     io\u001b[39m=\u001b[39;49mio,\n\u001b[0;32m   1116\u001b[0m     match\u001b[39m=\u001b[39;49mmatch,\n\u001b[0;32m   1117\u001b[0m     header\u001b[39m=\u001b[39;49mheader,\n\u001b[0;32m   1118\u001b[0m     index_col\u001b[39m=\u001b[39;49mindex_col,\n\u001b[0;32m   1119\u001b[0m     skiprows\u001b[39m=\u001b[39;49mskiprows,\n\u001b[0;32m   1120\u001b[0m     parse_dates\u001b[39m=\u001b[39;49mparse_dates,\n\u001b[0;32m   1121\u001b[0m     thousands\u001b[39m=\u001b[39;49mthousands,\n\u001b[0;32m   1122\u001b[0m     attrs\u001b[39m=\u001b[39;49mattrs,\n\u001b[0;32m   1123\u001b[0m     encoding\u001b[39m=\u001b[39;49mencoding,\n\u001b[0;32m   1124\u001b[0m     decimal\u001b[39m=\u001b[39;49mdecimal,\n\u001b[0;32m   1125\u001b[0m     converters\u001b[39m=\u001b[39;49mconverters,\n\u001b[0;32m   1126\u001b[0m     na_values\u001b[39m=\u001b[39;49mna_values,\n\u001b[0;32m   1127\u001b[0m     keep_default_na\u001b[39m=\u001b[39;49mkeep_default_na,\n\u001b[0;32m   1128\u001b[0m     displayed_only\u001b[39m=\u001b[39;49mdisplayed_only,\n\u001b[0;32m   1129\u001b[0m )\n",
      "File \u001b[1;32mc:\\ProgramData\\Anaconda3\\lib\\site-packages\\pandas\\io\\html.py:939\u001b[0m, in \u001b[0;36m_parse\u001b[1;34m(flavor, io, match, attrs, encoding, displayed_only, **kwargs)\u001b[0m\n\u001b[0;32m    937\u001b[0m \u001b[39melse\u001b[39;00m:\n\u001b[0;32m    938\u001b[0m     \u001b[39massert\u001b[39;00m retained \u001b[39mis\u001b[39;00m \u001b[39mnot\u001b[39;00m \u001b[39mNone\u001b[39;00m  \u001b[39m# for mypy\u001b[39;00m\n\u001b[1;32m--> 939\u001b[0m     \u001b[39mraise\u001b[39;00m retained\n\u001b[0;32m    941\u001b[0m ret \u001b[39m=\u001b[39m []\n\u001b[0;32m    942\u001b[0m \u001b[39mfor\u001b[39;00m table \u001b[39min\u001b[39;00m tables:\n",
      "File \u001b[1;32mc:\\ProgramData\\Anaconda3\\lib\\site-packages\\pandas\\io\\html.py:919\u001b[0m, in \u001b[0;36m_parse\u001b[1;34m(flavor, io, match, attrs, encoding, displayed_only, **kwargs)\u001b[0m\n\u001b[0;32m    916\u001b[0m p \u001b[39m=\u001b[39m parser(io, compiled_match, attrs, encoding, displayed_only)\n\u001b[0;32m    918\u001b[0m \u001b[39mtry\u001b[39;00m:\n\u001b[1;32m--> 919\u001b[0m     tables \u001b[39m=\u001b[39m p\u001b[39m.\u001b[39;49mparse_tables()\n\u001b[0;32m    920\u001b[0m \u001b[39mexcept\u001b[39;00m \u001b[39mValueError\u001b[39;00m \u001b[39mas\u001b[39;00m caught:\n\u001b[0;32m    921\u001b[0m     \u001b[39m# if `io` is an io-like object, check if it's seekable\u001b[39;00m\n\u001b[0;32m    922\u001b[0m     \u001b[39m# and try to rewind it before trying the next parser\u001b[39;00m\n\u001b[0;32m    923\u001b[0m     \u001b[39mif\u001b[39;00m \u001b[39mhasattr\u001b[39m(io, \u001b[39m\"\u001b[39m\u001b[39mseekable\u001b[39m\u001b[39m\"\u001b[39m) \u001b[39mand\u001b[39;00m io\u001b[39m.\u001b[39mseekable():\n",
      "File \u001b[1;32mc:\\ProgramData\\Anaconda3\\lib\\site-packages\\pandas\\io\\html.py:239\u001b[0m, in \u001b[0;36m_HtmlFrameParser.parse_tables\u001b[1;34m(self)\u001b[0m\n\u001b[0;32m    231\u001b[0m \u001b[39mdef\u001b[39;00m \u001b[39mparse_tables\u001b[39m(\u001b[39mself\u001b[39m):\n\u001b[0;32m    232\u001b[0m     \u001b[39m\"\"\"\u001b[39;00m\n\u001b[0;32m    233\u001b[0m \u001b[39m    Parse and return all tables from the DOM.\u001b[39;00m\n\u001b[0;32m    234\u001b[0m \n\u001b[1;32m   (...)\u001b[0m\n\u001b[0;32m    237\u001b[0m \u001b[39m    list of parsed (header, body, footer) tuples from tables.\u001b[39;00m\n\u001b[0;32m    238\u001b[0m \u001b[39m    \"\"\"\u001b[39;00m\n\u001b[1;32m--> 239\u001b[0m     tables \u001b[39m=\u001b[39m \u001b[39mself\u001b[39;49m\u001b[39m.\u001b[39;49m_parse_tables(\u001b[39mself\u001b[39;49m\u001b[39m.\u001b[39;49m_build_doc(), \u001b[39mself\u001b[39;49m\u001b[39m.\u001b[39;49mmatch, \u001b[39mself\u001b[39;49m\u001b[39m.\u001b[39;49mattrs)\n\u001b[0;32m    240\u001b[0m     \u001b[39mreturn\u001b[39;00m (\u001b[39mself\u001b[39m\u001b[39m.\u001b[39m_parse_thead_tbody_tfoot(table) \u001b[39mfor\u001b[39;00m table \u001b[39min\u001b[39;00m tables)\n",
      "File \u001b[1;32mc:\\ProgramData\\Anaconda3\\lib\\site-packages\\pandas\\io\\html.py:569\u001b[0m, in \u001b[0;36m_BeautifulSoupHtml5LibFrameParser._parse_tables\u001b[1;34m(self, doc, match, attrs)\u001b[0m\n\u001b[0;32m    566\u001b[0m tables \u001b[39m=\u001b[39m doc\u001b[39m.\u001b[39mfind_all(element_name, attrs\u001b[39m=\u001b[39mattrs)\n\u001b[0;32m    568\u001b[0m \u001b[39mif\u001b[39;00m \u001b[39mnot\u001b[39;00m tables:\n\u001b[1;32m--> 569\u001b[0m     \u001b[39mraise\u001b[39;00m \u001b[39mValueError\u001b[39;00m(\u001b[39m\"\u001b[39m\u001b[39mNo tables found\u001b[39m\u001b[39m\"\u001b[39m)\n\u001b[0;32m    571\u001b[0m result \u001b[39m=\u001b[39m []\n\u001b[0;32m    572\u001b[0m unique_tables \u001b[39m=\u001b[39m \u001b[39mset\u001b[39m()\n",
      "\u001b[1;31mValueError\u001b[0m: No tables found"
     ]
    }
   ],
   "source": [
    "tTable= get_table_from_text(LocalDir) # text of the table only\n",
    "\n",
    "def table_headers_list(textTable):\n",
    "    return [textTable[0:4], # Name\n",
    "            textTable[5:16], # First login\n",
    "            textTable[17:27], # Last login\n",
    "            textTable[28:34], # Active \n",
    "            textTable[35:52], # No. of owned  LRs\n",
    "            textTable[53:88]] # No. of days  active in past 30 days\n",
    "\n",
    "\n",
    "def rest_of_table_list(textTable):\n",
    "        table_as_list = textTable[89:].rsplit(' ')\n",
    "        for i in table_as_list:\n",
    "                i.strip()\n",
    "        table_as_list.remove('')\n",
    "        return table_as_list\n",
    "\n",
    "\n",
    "def list_splitter(list):\n",
    "    i = 0\n",
    "    user_list = []\n",
    "    while i <= len(list):\n",
    "        user_list.append(list[i:i+6])\n",
    "        i += 6\n",
    "    return user_list\n",
    "\n",
    "split_list = list_splitter(rest_of_table_list(tTable))"
   ]
  },
  {
   "cell_type": "code",
   "execution_count": null,
   "id": "10734d78",
   "metadata": {},
   "outputs": [],
   "source": [
    "\n",
    "def generate_nested_dict(split_list_holder):\n",
    "    tab_dict = {}\n",
    "    for x in split_list_holder:\n",
    "        tab_dict.update({split_list_holder.index(x):x})\n",
    "    tab_dict.popitem()\n",
    "    return tab_dict\n"
   ]
  },
  {
   "cell_type": "code",
   "execution_count": 4,
   "id": "28f8770b",
   "metadata": {},
   "outputs": [
    {
     "ename": "NameError",
     "evalue": "name 'generate_nested_dict' is not defined",
     "output_type": "error",
     "traceback": [
      "\u001b[1;31m---------------------------------------------------------------------------\u001b[0m",
      "\u001b[1;31mNameError\u001b[0m                                 Traceback (most recent call last)",
      "\u001b[1;32mc:\\Users\\mryan\\OneDrive\\Documents\\Workflow Informatics\\Nimbus\\LD_html2Excel_Example.ipynb Cell 5\u001b[0m in \u001b[0;36m<cell line: 1>\u001b[1;34m()\u001b[0m\n\u001b[1;32m----> <a href='vscode-notebook-cell:/c%3A/Users/mryan/OneDrive/Documents/Workflow%20Informatics/Nimbus/LD_html2Excel_Example.ipynb#W4sZmlsZQ%3D%3D?line=0'>1</a>\u001b[0m tab_df \u001b[39m=\u001b[39m pd\u001b[39m.\u001b[39mDataFrame\u001b[39m.\u001b[39mfrom_dict(data\u001b[39m=\u001b[39m generate_nested_dict(split_list), orient\u001b[39m=\u001b[39m\u001b[39m'\u001b[39m\u001b[39mindex\u001b[39m\u001b[39m'\u001b[39m)\n\u001b[0;32m      <a href='vscode-notebook-cell:/c%3A/Users/mryan/OneDrive/Documents/Workflow%20Informatics/Nimbus/LD_html2Excel_Example.ipynb#W4sZmlsZQ%3D%3D?line=2'>3</a>\u001b[0m renaming_dict \u001b[39m=\u001b[39m {i:table_headers_list(tTable)[i] \u001b[39mfor\u001b[39;00m i \u001b[39min\u001b[39;00m \u001b[39mrange\u001b[39m(\u001b[39m0\u001b[39m,\u001b[39mlen\u001b[39m(table_headers_list(tTable)))}\n\u001b[0;32m      <a href='vscode-notebook-cell:/c%3A/Users/mryan/OneDrive/Documents/Workflow%20Informatics/Nimbus/LD_html2Excel_Example.ipynb#W4sZmlsZQ%3D%3D?line=4'>5</a>\u001b[0m tab_df\u001b[39m.\u001b[39mrename(columns\u001b[39m=\u001b[39m renaming_dict, inplace \u001b[39m=\u001b[39m \u001b[39mTrue\u001b[39;00m)\n",
      "\u001b[1;31mNameError\u001b[0m: name 'generate_nested_dict' is not defined"
     ]
    }
   ],
   "source": [
    "tab_df = pd.DataFrame.from_dict(data= generate_nested_dict(split_list), orient='index')\n",
    "\n",
    "renaming_dict = {i:table_headers_list(tTable)[i] for i in range(0,len(table_headers_list(tTable)))}\n",
    "\n",
    "tab_df.rename(columns= renaming_dict, inplace = True)\n",
    "tab_df.dropna()\n",
    "tab_df.replace(to_replace='None', value=None).dropna()\n",
    "\n",
    "tab_df = tab_df.drop('First Login',axis=1)\n",
    "tab_df = tab_df.drop('Last Login',axis=1)\n",
    "tab_df = tab_df.drop('Active',axis=1)\n",
    "\n",
    "#date = dt.datetime.now().strftime('%Y_%m_%d')\n",
    "report_date = get_report_date(LocalDir)\n",
    "\n",
    "for i in tab_df:\n",
    "    tab_df['Report Date'] = report_date\n",
    "\n",
    "tab_df"
   ]
  },
  {
   "cell_type": "code",
   "execution_count": null,
   "id": "59a666be",
   "metadata": {},
   "outputs": [
    {
     "data": {
      "text/plain": [
       "[('ld_usage_report_2022_06_13',),\n",
       " ('ld_usage_report_2022_05_30',),\n",
       " ('ld_usage_report_2022_05_23',),\n",
       " ('ld_usage_report_2022_06_06',)]"
      ]
     },
     "execution_count": 8,
     "metadata": {},
     "output_type": "execute_result"
    }
   ],
   "source": [
    "conn = psycopg2.connect(\"dbname=postgres user=postgres password=R1y2a3n4!\")\n",
    "cur = conn.cursor()\n",
    "# use SQL regex to get each table\n",
    "getTables = cur.execute(\"SELECT table_name FROM information_schema.tables WHERE table_name ~ '(ld_usage_report_[0-9]{4}_[0-9]{2}_[0-9]{2})'\")\n",
    "tableNames = cur.fetchall()\n",
    "\n",
    "cur.close()\n",
    "conn.close()\n",
    "\n",
    "tableNames"
   ]
  },
  {
   "cell_type": "code",
   "execution_count": null,
   "id": "3d54e017",
   "metadata": {},
   "outputs": [
    {
     "data": {
      "text/plain": [
       "'ld_usage_report_2022_05_30'"
      ]
     },
     "execution_count": 9,
     "metadata": {},
     "output_type": "execute_result"
    }
   ],
   "source": [
    "tableNames[1][0]"
   ]
  },
  {
   "cell_type": "code",
   "execution_count": 5,
   "id": "027c415a",
   "metadata": {},
   "outputs": [
    {
     "ename": "OperationalError",
     "evalue": "connection to server at \"localhost\" (::1), port 5432 failed: FATAL:  password authentication failed for user \"postgres\"\n",
     "output_type": "error",
     "traceback": [
      "\u001b[1;31m---------------------------------------------------------------------------\u001b[0m",
      "\u001b[1;31mOperationalError\u001b[0m                          Traceback (most recent call last)",
      "\u001b[1;32mc:\\Users\\mryan\\OneDrive\\Documents\\Workflow Informatics\\Nimbus\\LD_html2Excel_Example.ipynb Cell 8\u001b[0m in \u001b[0;36m<cell line: 1>\u001b[1;34m()\u001b[0m\n\u001b[1;32m----> <a href='vscode-notebook-cell:/c%3A/Users/mryan/OneDrive/Documents/Workflow%20Informatics/Nimbus/LD_html2Excel_Example.ipynb#X11sZmlsZQ%3D%3D?line=0'>1</a>\u001b[0m conn \u001b[39m=\u001b[39m psycopg2\u001b[39m.\u001b[39;49mconnect(\u001b[39m\"\u001b[39;49m\u001b[39mdbname=postgres user=postgres password=########\u001b[39;49m\u001b[39m\"\u001b[39;49m)\n\u001b[0;32m      <a href='vscode-notebook-cell:/c%3A/Users/mryan/OneDrive/Documents/Workflow%20Informatics/Nimbus/LD_html2Excel_Example.ipynb#X11sZmlsZQ%3D%3D?line=1'>2</a>\u001b[0m cur \u001b[39m=\u001b[39m conn\u001b[39m.\u001b[39mcursor()\n\u001b[0;32m      <a href='vscode-notebook-cell:/c%3A/Users/mryan/OneDrive/Documents/Workflow%20Informatics/Nimbus/LD_html2Excel_Example.ipynb#X11sZmlsZQ%3D%3D?line=2'>3</a>\u001b[0m list4Tables \u001b[39m=\u001b[39m []\n",
      "File \u001b[1;32mc:\\ProgramData\\Anaconda3\\lib\\site-packages\\psycopg2\\__init__.py:122\u001b[0m, in \u001b[0;36mconnect\u001b[1;34m(dsn, connection_factory, cursor_factory, **kwargs)\u001b[0m\n\u001b[0;32m    119\u001b[0m     kwasync[\u001b[39m'\u001b[39m\u001b[39masync_\u001b[39m\u001b[39m'\u001b[39m] \u001b[39m=\u001b[39m kwargs\u001b[39m.\u001b[39mpop(\u001b[39m'\u001b[39m\u001b[39masync_\u001b[39m\u001b[39m'\u001b[39m)\n\u001b[0;32m    121\u001b[0m dsn \u001b[39m=\u001b[39m _ext\u001b[39m.\u001b[39mmake_dsn(dsn, \u001b[39m*\u001b[39m\u001b[39m*\u001b[39mkwargs)\n\u001b[1;32m--> 122\u001b[0m conn \u001b[39m=\u001b[39m _connect(dsn, connection_factory\u001b[39m=\u001b[39mconnection_factory, \u001b[39m*\u001b[39m\u001b[39m*\u001b[39mkwasync)\n\u001b[0;32m    123\u001b[0m \u001b[39mif\u001b[39;00m cursor_factory \u001b[39mis\u001b[39;00m \u001b[39mnot\u001b[39;00m \u001b[39mNone\u001b[39;00m:\n\u001b[0;32m    124\u001b[0m     conn\u001b[39m.\u001b[39mcursor_factory \u001b[39m=\u001b[39m cursor_factory\n",
      "\u001b[1;31mOperationalError\u001b[0m: connection to server at \"localhost\" (::1), port 5432 failed: FATAL:  password authentication failed for user \"postgres\"\n"
     ]
    }
   ],
   "source": [
    "conn = psycopg2.connect(\"dbname=postgres user=postgres password=########\")\n",
    "cur = conn.cursor()\n",
    "list4Tables = []\n",
    "for i in range(0,len(tableNames)):\n",
    "    selectEach = cur.execute(f'SELECT * from {tableNames[i][0]}')\n",
    "    list4Tables.append(cur.fetchall())\n",
    "cur.close()\n",
    "conn.close()\n",
    "\n",
    "list4Tables\n"
   ]
  },
  {
   "cell_type": "code",
   "execution_count": null,
   "id": "a951ac13",
   "metadata": {},
   "outputs": [],
   "source": [
    "\n",
    "from typing import final\n",
    "\n",
    "\n",
    "dfList = []\n",
    "\n",
    "for i in range(0,len(list4Tables)):\n",
    "    anotherDataframe = pd.DataFrame(list4Tables[i])\n",
    "    anotherDataframe.rename({0:'Name',1:'No. of owned LRs',2:'No. of days active in past 30 days',3:'Report Date'}, axis = 1, inplace = True)\n",
    "    anotherDataframe.set_index('Name', inplace=True)\n",
    "    dfList.append(anotherDataframe)\n",
    "\n",
    "final_df = pd.concat(dfList)\n",
    "dfA = final_df.groupby(['Name','Report Date']).sum('No. of owned LRs')"
   ]
  }
 ],
 "metadata": {
  "kernelspec": {
   "display_name": "Python 3.9.12 ('base')",
   "language": "python",
   "name": "python3"
  },
  "language_info": {
   "codemirror_mode": {
    "name": "ipython",
    "version": 3
   },
   "file_extension": ".py",
   "mimetype": "text/x-python",
   "name": "python",
   "nbconvert_exporter": "python",
   "pygments_lexer": "ipython3",
   "version": "3.9.12"
  },
  "vscode": {
   "interpreter": {
    "hash": "ad2bdc8ecc057115af97d19610ffacc2b4e99fae6737bb82f5d7fb13d2f2c186"
   }
  }
 },
 "nbformat": 4,
 "nbformat_minor": 5
}
